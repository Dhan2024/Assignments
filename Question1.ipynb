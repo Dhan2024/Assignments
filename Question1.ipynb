{
 "cells": [
  {
   "cell_type": "code",
   "execution_count": 1,
   "id": "bc26e03b-f5dd-48ee-a575-435d31b1c860",
   "metadata": {
    "tags": []
   },
   "outputs": [
    {
     "name": "stdout",
     "output_type": "stream",
     "text": [
      "Assignment 1: Solutions by Deliang\n",
      "Local Time: 2024-05-15 00:25:30\n",
      "Computer ID: Deliang\n"
     ]
    }
   ],
   "source": [
    "import datetime\n",
    "import socket\n",
    "\n",
    "# Get local time\n",
    "local_time = datetime.datetime.now().strftime(\"%Y-%m-%d %H:%M:%S\")\n",
    "\n",
    "# Get computer ID or hostname\n",
    "computer_id = socket.gethostname()\n",
    "\n",
    "# Print output with local time and computer ID\n",
    "print('Assignment 1: Solutions by Deliang') # Please change your name here\n",
    "print('Local Time:', local_time)\n",
    "print('Computer ID:', computer_id)"
   ]
  },
  {
   "cell_type": "code",
   "execution_count": 2,
   "id": "97413fa1-c1f6-4fc9-aa96-8e2c4fb36ad0",
   "metadata": {
    "tags": []
   },
   "outputs": [
    {
     "name": "stdout",
     "output_type": "stream",
     "text": [
      "0              Winnipeg\n",
      "1      Bifrost-riverton\n",
      "2      Emerson-franklin\n",
      "3              Rockwood\n",
      "4             Armstrong\n",
      "             ...       \n",
      "475     Special area 02\n",
      "476     Special area 03\n",
      "477     Special area 04\n",
      "478        Spirit river\n",
      "479     Unorg territory\n",
      "Name: RM, Length: 480, dtype: object\n"
     ]
    }
   ],
   "source": [
    "# Import Libraries Pandas, NumPy, Geopandas, Matplotlib, Seaborn\n",
    "## Your code down ##\n",
    "\n",
    "import numpy as np\n",
    "import pandas as pd\n",
    "import geopandas as gpd\n",
    "import matplotlib as plt\n",
    "import seaborn as sb\n",
    "import regex as re\n",
    "\n",
    "## df_1 data cleaning to ensure each RM being named consitently with a same entry:\n",
    "## Examples of such efforts include changing 'MUNICIPAL DISTRICT OF GREENVIEW NO. 16' to '16', or 'I.D. NO. 13 (ELK ISLAND)' to '13'\n",
    "\n",
    "# add_to_file method will add a line (txt) to a file (filename)\n",
    "# parameters: filename: output file; txt: content of a line \n",
    "def add_to_file(filename, txt):\n",
    "  try:\n",
    "    with open(filename, 'a') as outputfile:\n",
    "      outputfile.write(txt)\n",
    "      return True\n",
    "  except OSError:\n",
    "    print('Cannot open file for writing.')\n",
    "    return False\n",
    "\n",
    "# clean_up_file method will clean inputfile and write to output file. The clean up processes inputfile line by line to replace string with number\n",
    "# parameters: inputfile: filename to be processed; outputfile: the file will be writen after cleaning up \n",
    "def clean_up_file(inputfile, outputfile):\n",
    "\n",
    "    #remove content in output file just in case\n",
    "    open(output_file_path,'w').close\n",
    "\n",
    "    replace_pattern = r'\\d+'\n",
    "    file = open(input_file_path,'r')\n",
    "    updated_contents=''\n",
    "\n",
    "    for line in file:\n",
    "      match = re.search(replace_pattern, line)\n",
    "      if match: \n",
    "        updated_contents = match.group()+'\\n'\n",
    "      else:\n",
    "        updated_contents = line\n",
    "      add_to_file(output_file_path, updated_contents)  \n",
    "    file.close()\n",
    "\n",
    "# clean up df_1 and write to df_1_output.csv\n",
    "base_path='/Users/Myfam/Desktop/Python/Assignment_1'\n",
    "input_file_path = base_path+'/df_1.csv'\n",
    "output_file_path = base_path+'/df_1_output.csv'\n",
    "clean_up_file(input_file_path, output_file_path)\n",
    "\n",
    "## Read RM datasets\n",
    "\n",
    "df_1_output = pd.read_csv('/Users/Myfam/Desktop/Python/Assignment_1/df_1_output.csv')\n",
    "df_2 = pd.read_csv('/Users/Myfam/Desktop/Python/Assignment_1//df_2.csv')\n",
    "\n",
    "## data merging/optimizing/finalizing and creating df_final.csv\n",
    "\n",
    "df_1_2 = pd.merge(df_1_output, df_2,how='outer').drop_duplicates().dropna().reset_index(drop=True)\n",
    "df_1_2['RM'] = df_1_2['RM'].str.strip().str.capitalize().str.removesuffix('county').str.replace('St laurent', 'St. laurent')\n",
    "df_1_2['RM'] = df_1_2['RM'].str.replace('St clements', 'St. clements').str.replace('St andrews', 'St. andrews')\n",
    "df_1_2['RM'] = df_1_2['RM'].str.replace('Municipal district of taber', 'Taber').str.replace('Ste anne', 'Ste. anne')\n",
    "df_1_2 = df_1_2['RM'].str.strip().drop_duplicates().dropna().reset_index(drop=True)\n",
    "print(df_1_2)\n",
    "df_1_2.to_csv('df_final.csv', index=False)"
   ]
  }
 ],
 "metadata": {
  "kernelspec": {
   "display_name": "Python 3 (ipykernel)",
   "language": "python",
   "name": "python3"
  },
  "language_info": {
   "codemirror_mode": {
    "name": "ipython",
    "version": 3
   },
   "file_extension": ".py",
   "mimetype": "text/x-python",
   "name": "python",
   "nbconvert_exporter": "python",
   "pygments_lexer": "ipython3",
   "version": "3.11.7"
  },
  "toc-autonumbering": true
 },
 "nbformat": 4,
 "nbformat_minor": 5
}
